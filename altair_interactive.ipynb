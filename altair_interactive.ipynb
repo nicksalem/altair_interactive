{
 "cells": [
  {
   "cell_type": "markdown",
   "metadata": {
    "deletable": false,
    "editable": false,
    "nbgrader": {
     "cell_type": "markdown",
     "checksum": "8c4516ab111e7d00191215c1373c029e",
     "grade": false,
     "grade_id": "cell-6e768e5e5abee2e8",
     "locked": true,
     "schema_version": 3,
     "solution": false
    }
   },
   "source": [
    "## Information Visualization II\n",
    "\n",
    "## School of Information, University of Michigan\n",
    "\n",
    "-Interactive Graphs in Altair"
   ]
  },
  {
   "cell_type": "markdown",
   "metadata": {},
   "source": [
    "****"
   ]
  },
  {
   "cell_type": "code",
   "execution_count": 1,
   "metadata": {},
   "outputs": [],
   "source": [
    "# pip install altair==4.2.2"
   ]
  },
  {
   "cell_type": "code",
   "execution_count": 25,
   "metadata": {
    "code_folding": []
   },
   "outputs": [],
   "source": [
    "# start with the setup\n",
    "import pandas as pd\n",
    "import numpy as np\n",
    "import altair as alt\n",
    "import warnings\n",
    "warnings.filterwarnings(\"ignore\")"
   ]
  },
  {
   "cell_type": "code",
   "execution_count": 3,
   "metadata": {},
   "outputs": [
    {
     "data": {
      "text/plain": [
       "'4.2.2'"
      ]
     },
     "execution_count": 3,
     "metadata": {},
     "output_type": "execute_result"
    }
   ],
   "source": [
    "alt.__version__"
   ]
  },
  {
   "cell_type": "code",
   "execution_count": 4,
   "metadata": {},
   "outputs": [
    {
     "data": {
      "text/plain": [
       "RendererRegistry.enable('default')"
      ]
     },
     "execution_count": 4,
     "metadata": {},
     "output_type": "execute_result"
    }
   ],
   "source": [
    "# enable correct rendering\n",
    "alt.renderers.enable('default')"
   ]
  },
  {
   "cell_type": "code",
   "execution_count": 5,
   "metadata": {},
   "outputs": [
    {
     "data": {
      "text/plain": [
       "ThemeRegistry.enable('fivethirtyeight')"
      ]
     },
     "execution_count": 5,
     "metadata": {},
     "output_type": "execute_result"
    }
   ],
   "source": [
    "# uses intermediate json files to speed things up\n",
    "alt.data_transformers.enable('json')\n",
    "\n",
    "# use the 538 theme\n",
    "alt.themes.enable('fivethirtyeight')"
   ]
  },
  {
   "cell_type": "markdown",
   "metadata": {},
   "source": [
    "## Create an interactive graph that allows selection across the top charts and filters the bottom charts"
   ]
  },
  {
   "cell_type": "code",
   "execution_count": 6,
   "metadata": {},
   "outputs": [],
   "source": [
    "#sample function - provided\n",
    "def createComicFrame(DCDataFile='data/dc-wikia-data.csv',marvelDatafile='data/marvel-wikia-data.csv'):\n",
    "    # load up the two datasets, one for Marvel and one for DC\n",
    "    dc = pd.read_csv(DCDataFile)\n",
    "    marvel = pd.read_csv(marvelDatafile)\n",
    "    \n",
    "    # label the publisher\n",
    "    dc['publisher'] = 'DC'\n",
    "    marvel['publisher'] = 'Marvel'\n",
    "    \n",
    "    # rename some columns\n",
    "    marvel.rename(columns={'Year': 'YEAR'}, inplace=True)\n",
    "    \n",
    "    # create the concatenated table with everything\n",
    "    comic = pd.concat([dc, marvel])\n",
    "    \n",
    "    # drop years with na values\n",
    "    comic.dropna(subset=['YEAR'], inplace=True)\n",
    "    \n",
    "    return(comic)"
   ]
  },
  {
   "cell_type": "code",
   "execution_count": 7,
   "metadata": {},
   "outputs": [],
   "source": [
    "comic = createComicFrame()"
   ]
  },
  {
   "cell_type": "code",
   "execution_count": 8,
   "metadata": {},
   "outputs": [
    {
     "data": {
      "text/html": [
       "<div>\n",
       "<style scoped>\n",
       "    .dataframe tbody tr th:only-of-type {\n",
       "        vertical-align: middle;\n",
       "    }\n",
       "\n",
       "    .dataframe tbody tr th {\n",
       "        vertical-align: top;\n",
       "    }\n",
       "\n",
       "    .dataframe thead th {\n",
       "        text-align: right;\n",
       "    }\n",
       "</style>\n",
       "<table border=\"1\" class=\"dataframe\">\n",
       "  <thead>\n",
       "    <tr style=\"text-align: right;\">\n",
       "      <th></th>\n",
       "      <th>page_id</th>\n",
       "      <th>name</th>\n",
       "      <th>urlslug</th>\n",
       "      <th>ID</th>\n",
       "      <th>ALIGN</th>\n",
       "      <th>EYE</th>\n",
       "      <th>HAIR</th>\n",
       "      <th>SEX</th>\n",
       "      <th>GSM</th>\n",
       "      <th>ALIVE</th>\n",
       "      <th>APPEARANCES</th>\n",
       "      <th>FIRST APPEARANCE</th>\n",
       "      <th>YEAR</th>\n",
       "      <th>publisher</th>\n",
       "    </tr>\n",
       "  </thead>\n",
       "  <tbody>\n",
       "    <tr>\n",
       "      <th>0</th>\n",
       "      <td>1422</td>\n",
       "      <td>Batman (Bruce Wayne)</td>\n",
       "      <td>\\/wiki\\/Batman_(Bruce_Wayne)</td>\n",
       "      <td>Secret Identity</td>\n",
       "      <td>Good Characters</td>\n",
       "      <td>Blue Eyes</td>\n",
       "      <td>Black Hair</td>\n",
       "      <td>Male Characters</td>\n",
       "      <td>NaN</td>\n",
       "      <td>Living Characters</td>\n",
       "      <td>3093.0</td>\n",
       "      <td>1939, May</td>\n",
       "      <td>1939.0</td>\n",
       "      <td>DC</td>\n",
       "    </tr>\n",
       "    <tr>\n",
       "      <th>1</th>\n",
       "      <td>23387</td>\n",
       "      <td>Superman (Clark Kent)</td>\n",
       "      <td>\\/wiki\\/Superman_(Clark_Kent)</td>\n",
       "      <td>Secret Identity</td>\n",
       "      <td>Good Characters</td>\n",
       "      <td>Blue Eyes</td>\n",
       "      <td>Black Hair</td>\n",
       "      <td>Male Characters</td>\n",
       "      <td>NaN</td>\n",
       "      <td>Living Characters</td>\n",
       "      <td>2496.0</td>\n",
       "      <td>1986, October</td>\n",
       "      <td>1986.0</td>\n",
       "      <td>DC</td>\n",
       "    </tr>\n",
       "    <tr>\n",
       "      <th>2</th>\n",
       "      <td>1458</td>\n",
       "      <td>Green Lantern (Hal Jordan)</td>\n",
       "      <td>\\/wiki\\/Green_Lantern_(Hal_Jordan)</td>\n",
       "      <td>Secret Identity</td>\n",
       "      <td>Good Characters</td>\n",
       "      <td>Brown Eyes</td>\n",
       "      <td>Brown Hair</td>\n",
       "      <td>Male Characters</td>\n",
       "      <td>NaN</td>\n",
       "      <td>Living Characters</td>\n",
       "      <td>1565.0</td>\n",
       "      <td>1959, October</td>\n",
       "      <td>1959.0</td>\n",
       "      <td>DC</td>\n",
       "    </tr>\n",
       "    <tr>\n",
       "      <th>3</th>\n",
       "      <td>1659</td>\n",
       "      <td>James Gordon (New Earth)</td>\n",
       "      <td>\\/wiki\\/James_Gordon_(New_Earth)</td>\n",
       "      <td>Public Identity</td>\n",
       "      <td>Good Characters</td>\n",
       "      <td>Brown Eyes</td>\n",
       "      <td>White Hair</td>\n",
       "      <td>Male Characters</td>\n",
       "      <td>NaN</td>\n",
       "      <td>Living Characters</td>\n",
       "      <td>1316.0</td>\n",
       "      <td>1987, February</td>\n",
       "      <td>1987.0</td>\n",
       "      <td>DC</td>\n",
       "    </tr>\n",
       "    <tr>\n",
       "      <th>4</th>\n",
       "      <td>1576</td>\n",
       "      <td>Richard Grayson (New Earth)</td>\n",
       "      <td>\\/wiki\\/Richard_Grayson_(New_Earth)</td>\n",
       "      <td>Secret Identity</td>\n",
       "      <td>Good Characters</td>\n",
       "      <td>Blue Eyes</td>\n",
       "      <td>Black Hair</td>\n",
       "      <td>Male Characters</td>\n",
       "      <td>NaN</td>\n",
       "      <td>Living Characters</td>\n",
       "      <td>1237.0</td>\n",
       "      <td>1940, April</td>\n",
       "      <td>1940.0</td>\n",
       "      <td>DC</td>\n",
       "    </tr>\n",
       "  </tbody>\n",
       "</table>\n",
       "</div>"
      ],
      "text/plain": [
       "   page_id                         name                              urlslug  \\\n",
       "0     1422         Batman (Bruce Wayne)         \\/wiki\\/Batman_(Bruce_Wayne)   \n",
       "1    23387        Superman (Clark Kent)        \\/wiki\\/Superman_(Clark_Kent)   \n",
       "2     1458   Green Lantern (Hal Jordan)   \\/wiki\\/Green_Lantern_(Hal_Jordan)   \n",
       "3     1659     James Gordon (New Earth)     \\/wiki\\/James_Gordon_(New_Earth)   \n",
       "4     1576  Richard Grayson (New Earth)  \\/wiki\\/Richard_Grayson_(New_Earth)   \n",
       "\n",
       "                ID            ALIGN         EYE        HAIR              SEX  \\\n",
       "0  Secret Identity  Good Characters   Blue Eyes  Black Hair  Male Characters   \n",
       "1  Secret Identity  Good Characters   Blue Eyes  Black Hair  Male Characters   \n",
       "2  Secret Identity  Good Characters  Brown Eyes  Brown Hair  Male Characters   \n",
       "3  Public Identity  Good Characters  Brown Eyes  White Hair  Male Characters   \n",
       "4  Secret Identity  Good Characters   Blue Eyes  Black Hair  Male Characters   \n",
       "\n",
       "   GSM              ALIVE  APPEARANCES FIRST APPEARANCE    YEAR publisher  \n",
       "0  NaN  Living Characters       3093.0        1939, May  1939.0        DC  \n",
       "1  NaN  Living Characters       2496.0    1986, October  1986.0        DC  \n",
       "2  NaN  Living Characters       1565.0    1959, October  1959.0        DC  \n",
       "3  NaN  Living Characters       1316.0   1987, February  1987.0        DC  \n",
       "4  NaN  Living Characters       1237.0      1940, April  1940.0        DC  "
      ]
     },
     "execution_count": 8,
     "metadata": {},
     "output_type": "execute_result"
    }
   ],
   "source": [
    "comic.head()"
   ]
  },
  {
   "cell_type": "code",
   "execution_count": 9,
   "metadata": {},
   "outputs": [],
   "source": [
    "def genStaticBars(comicDF):\n",
    "\n",
    "    p1_bar_base = alt.Chart(comicDF).mark_bar(size=2.5).encode( \n",
    "        alt.Y('count():Q', \n",
    "              axis=alt.Axis(values=[0, 100, 200, 300, 400, 500], \n",
    "                            title=None,\n",
    "                            labelFontWeight=\"bold\",\n",
    "                            labelFontSize=15),\n",
    "              scale=alt.Scale(domain=[0, 500]))).properties(\n",
    "                     width=240,\n",
    "                     height=300\n",
    "    )\n",
    "\n",
    "\n",
    "    #DC\n",
    "    bar_dc = p1_bar_base.encode(alt.X('YEAR:N',  # create the X axis based on year and fix the look of the axes\n",
    "                                   axis=alt.Axis(values=[1940, 1960, 1980, 2000], labels=True, ticks=False,grid=True,\n",
    "                                                 title=\"DC, New Earth continuity\",\n",
    "                                                 titlePadding=-347, \n",
    "                                                 labelAngle=360,\n",
    "                                                 labelFontWeight=\"bold\",\n",
    "                                                 labelFontSize=15,)),\n",
    "            ).transform_filter(\n",
    "                # we will use Altair's filter to only keep DC for this chart\n",
    "                alt.datum.publisher == 'DC'\n",
    "            )\n",
    "\n",
    "    #Marvel\n",
    "    bar_marvel = p1_bar_base.mark_bar(color='#f6573f').encode(alt.X('YEAR:N', # create the X axis based on year \n",
    "                                # fix the look of the axes\n",
    "                               axis=alt.Axis(values=[1940, 1960, 1980, 2000], labels=True, ticks=False,grid=True,\n",
    "                                             title=\"Marvel, Earth-616 continuity\",\n",
    "                                             titlePadding=-347,\n",
    "                                             labelAngle=360,\n",
    "                                             labelFontWeight=\"bold\",\n",
    "                                             labelFontSize=15)),\n",
    "            ).transform_filter(\n",
    "                # we will use Altair's filter to only keep DC for this chart\n",
    "                alt.datum.publisher == 'Marvel'\n",
    "            )\n",
    "    \n",
    "    return(bar_dc,bar_marvel)"
   ]
  },
  {
   "cell_type": "code",
   "execution_count": 10,
   "metadata": {},
   "outputs": [],
   "source": [
    "def genStaticLines(comicDF):\n",
    "    \n",
    "    p1_line_base = alt.Chart(comicDF).mark_line().encode( \n",
    "         # the X axis will be year\n",
    "         alt.X('YEAR:N'),\n",
    "         # the Y axis will be the count (the number of points that year)\n",
    "         alt.Y('count():Q', axis=alt.Axis(grid=False, \n",
    "                                        labelFontWeight=\"bold\",\n",
    "                                        labelFontSize=15, \n",
    "                                        title=None)),\n",
    "         # let's split the data and color by SEX\n",
    "         alt.Color('SEX', \n",
    "                  scale = alt.Scale(domain=['Female Characters', 'Male Characters'], range=['#31a354', '#ce6dbd']),\n",
    "                  legend=alt.Legend(orient=\"bottom\"))\n",
    "        ).properties(\n",
    "                    width=240, height=80\n",
    "         )\n",
    "\n",
    "    #DC\n",
    "    line_dc = p1_line_base.encode(alt.X('YEAR:N',\n",
    "                                           axis=alt.Axis(values=[1940, 1960, 1980, 2000], \n",
    "                                                                  grid=True, \n",
    "                                                                  labelAngle=360,\n",
    "                                                                  labelFontWeight=\"bold\",\n",
    "                                                                  labelFontSize=15,\n",
    "                                                                  title = 'Dc, Female and Male characters over time',\n",
    "                                                                  titlePadding=-130,\n",
    "                                                                  titleFontSize = 12\n",
    "                                                                 )\n",
    "                                          )\n",
    "                ).transform_filter(\n",
    "                    # this is the DC line chart, so we only want DC\n",
    "                    alt.datum.publisher == 'DC'\n",
    "                )\n",
    "\n",
    "\n",
    "    #Marvel\n",
    "    line_marvel = p1_line_base.encode(alt.X('YEAR:N', \n",
    "                                        axis=alt.Axis(values=[1940, 1960, 1980, 2000], \n",
    "                                                              grid=True, \n",
    "                                                              labelAngle=360,\n",
    "                                                              labelFontWeight=\"bold\",\n",
    "                                                              labelFontSize=15,\n",
    "                                                              title = 'Marvel, Female and Male characters over time',\n",
    "                                                              titlePadding=-130,\n",
    "                                                              titleFontSize = 12\n",
    "                                                             )\n",
    "                                        )\n",
    "                ).transform_filter(\n",
    "                    # this is the Marvel line chart, so we only want Marvel\n",
    "                    alt.datum.publisher == 'Marvel'\n",
    "                )\n",
    "\n",
    "\n",
    "\n",
    "    return(line_dc,line_marvel)"
   ]
  },
  {
   "cell_type": "code",
   "execution_count": 12,
   "metadata": {},
   "outputs": [],
   "source": [
    "# the top two bar charts\n",
    "bar_dc, bar_marvel = genStaticBars(comic)\n",
    "\n",
    "# and the bottom two line charts\n",
    "line_dc, line_marvel = genStaticLines(comic)"
   ]
  },
  {
   "cell_type": "code",
   "execution_count": 13,
   "metadata": {},
   "outputs": [],
   "source": [
    "# let's make a function that puts it all together\n",
    "def genIntroVis(b_dc, b_marvel, l_dc, l_marvel):\n",
    "    # let's put everything together\n",
    "    \n",
    "    # top piece \n",
    "    top_charts = alt.hconcat(b_dc,b_marvel).resolve_scale(y='shared'\n",
    "               ).properties(\n",
    "                        title='New Comic Book Characters Introduced Per Year'\n",
    "               )\n",
    "\n",
    "    # bottom piece\n",
    "    bottom_charts = alt.hconcat(l_dc,l_marvel).resolve_scale(y='shared')\n",
    "\n",
    "    return alt.vconcat(top_charts,bottom_charts).configure_view(\n",
    "        strokeWidth=0\n",
    "    )"
   ]
  },
  {
   "cell_type": "code",
   "execution_count": 26,
   "metadata": {},
   "outputs": [
    {
     "data": {
      "text/html": [
       "\n",
       "<div id=\"altair-viz-71918a34a5e648c8960bd055e4a99686\"></div>\n",
       "<script type=\"text/javascript\">\n",
       "  var VEGA_DEBUG = (typeof VEGA_DEBUG == \"undefined\") ? {} : VEGA_DEBUG;\n",
       "  (function(spec, embedOpt){\n",
       "    let outputDiv = document.currentScript.previousElementSibling;\n",
       "    if (outputDiv.id !== \"altair-viz-71918a34a5e648c8960bd055e4a99686\") {\n",
       "      outputDiv = document.getElementById(\"altair-viz-71918a34a5e648c8960bd055e4a99686\");\n",
       "    }\n",
       "    const paths = {\n",
       "      \"vega\": \"https://cdn.jsdelivr.net/npm//vega@5?noext\",\n",
       "      \"vega-lib\": \"https://cdn.jsdelivr.net/npm//vega-lib?noext\",\n",
       "      \"vega-lite\": \"https://cdn.jsdelivr.net/npm//vega-lite@4.17.0?noext\",\n",
       "      \"vega-embed\": \"https://cdn.jsdelivr.net/npm//vega-embed@6?noext\",\n",
       "    };\n",
       "\n",
       "    function maybeLoadScript(lib, version) {\n",
       "      var key = `${lib.replace(\"-\", \"\")}_version`;\n",
       "      return (VEGA_DEBUG[key] == version) ?\n",
       "        Promise.resolve(paths[lib]) :\n",
       "        new Promise(function(resolve, reject) {\n",
       "          var s = document.createElement('script');\n",
       "          document.getElementsByTagName(\"head\")[0].appendChild(s);\n",
       "          s.async = true;\n",
       "          s.onload = () => {\n",
       "            VEGA_DEBUG[key] = version;\n",
       "            return resolve(paths[lib]);\n",
       "          };\n",
       "          s.onerror = () => reject(`Error loading script: ${paths[lib]}`);\n",
       "          s.src = paths[lib];\n",
       "        });\n",
       "    }\n",
       "\n",
       "    function showError(err) {\n",
       "      outputDiv.innerHTML = `<div class=\"error\" style=\"color:red;\">${err}</div>`;\n",
       "      throw err;\n",
       "    }\n",
       "\n",
       "    function displayChart(vegaEmbed) {\n",
       "      vegaEmbed(outputDiv, spec, embedOpt)\n",
       "        .catch(err => showError(`Javascript Error: ${err.message}<br>This usually means there's a typo in your chart specification. See the javascript console for the full traceback.`));\n",
       "    }\n",
       "\n",
       "    if(typeof define === \"function\" && define.amd) {\n",
       "      requirejs.config({paths});\n",
       "      require([\"vega-embed\"], displayChart, err => showError(`Error loading script: ${err.message}`));\n",
       "    } else {\n",
       "      maybeLoadScript(\"vega\", \"5\")\n",
       "        .then(() => maybeLoadScript(\"vega-lite\", \"4.17.0\"))\n",
       "        .then(() => maybeLoadScript(\"vega-embed\", \"6\"))\n",
       "        .catch(showError)\n",
       "        .then(() => displayChart(vegaEmbed));\n",
       "    }\n",
       "  })({\"usermeta\": {\"embedOptions\": {\"theme\": \"fivethirtyeight\"}}, \"config\": {\"view\": {\"continuousWidth\": 400, \"continuousHeight\": 300, \"strokeWidth\": 0}}, \"vconcat\": [{\"hconcat\": [{\"mark\": {\"type\": \"bar\", \"size\": 2.5}, \"encoding\": {\"x\": {\"axis\": {\"grid\": true, \"labelAngle\": 360, \"labelFontSize\": 15, \"labelFontWeight\": \"bold\", \"labels\": true, \"ticks\": false, \"title\": \"DC, New Earth continuity\", \"titlePadding\": -347, \"values\": [1940, 1960, 1980, 2000]}, \"field\": \"YEAR\", \"type\": \"nominal\"}, \"y\": {\"aggregate\": \"count\", \"axis\": {\"labelFontSize\": 15, \"labelFontWeight\": \"bold\", \"title\": null, \"values\": [0, 100, 200, 300, 400, 500]}, \"scale\": {\"domain\": [0, 500]}, \"type\": \"quantitative\"}}, \"height\": 300, \"transform\": [{\"filter\": \"(datum.publisher === 'DC')\"}], \"width\": 240}, {\"mark\": {\"type\": \"bar\", \"color\": \"#f6573f\"}, \"encoding\": {\"x\": {\"axis\": {\"grid\": true, \"labelAngle\": 360, \"labelFontSize\": 15, \"labelFontWeight\": \"bold\", \"labels\": true, \"ticks\": false, \"title\": \"Marvel, Earth-616 continuity\", \"titlePadding\": -347, \"values\": [1940, 1960, 1980, 2000]}, \"field\": \"YEAR\", \"type\": \"nominal\"}, \"y\": {\"aggregate\": \"count\", \"axis\": {\"labelFontSize\": 15, \"labelFontWeight\": \"bold\", \"title\": null, \"values\": [0, 100, 200, 300, 400, 500]}, \"scale\": {\"domain\": [0, 500]}, \"type\": \"quantitative\"}}, \"height\": 300, \"transform\": [{\"filter\": \"(datum.publisher === 'Marvel')\"}], \"width\": 240}], \"resolve\": {\"scale\": {\"y\": \"shared\"}}, \"title\": \"New Comic Book Characters Introduced Per Year\"}, {\"hconcat\": [{\"mark\": \"line\", \"encoding\": {\"color\": {\"field\": \"SEX\", \"legend\": {\"orient\": \"bottom\"}, \"scale\": {\"domain\": [\"Female Characters\", \"Male Characters\"], \"range\": [\"#31a354\", \"#ce6dbd\"]}, \"type\": \"nominal\"}, \"x\": {\"axis\": {\"grid\": true, \"labelAngle\": 360, \"labelFontSize\": 15, \"labelFontWeight\": \"bold\", \"title\": \"Dc, Female and Male characters over time\", \"titleFontSize\": 12, \"titlePadding\": -130, \"values\": [1940, 1960, 1980, 2000]}, \"field\": \"YEAR\", \"type\": \"nominal\"}, \"y\": {\"aggregate\": \"count\", \"axis\": {\"grid\": false, \"labelFontSize\": 15, \"labelFontWeight\": \"bold\", \"title\": null}, \"type\": \"quantitative\"}}, \"height\": 80, \"transform\": [{\"filter\": \"(datum.publisher === 'DC')\"}], \"width\": 240}, {\"mark\": \"line\", \"encoding\": {\"color\": {\"field\": \"SEX\", \"legend\": {\"orient\": \"bottom\"}, \"scale\": {\"domain\": [\"Female Characters\", \"Male Characters\"], \"range\": [\"#31a354\", \"#ce6dbd\"]}, \"type\": \"nominal\"}, \"x\": {\"axis\": {\"grid\": true, \"labelAngle\": 360, \"labelFontSize\": 15, \"labelFontWeight\": \"bold\", \"title\": \"Marvel, Female and Male characters over time\", \"titleFontSize\": 12, \"titlePadding\": -130, \"values\": [1940, 1960, 1980, 2000]}, \"field\": \"YEAR\", \"type\": \"nominal\"}, \"y\": {\"aggregate\": \"count\", \"axis\": {\"grid\": false, \"labelFontSize\": 15, \"labelFontWeight\": \"bold\", \"title\": null}, \"type\": \"quantitative\"}}, \"height\": 80, \"transform\": [{\"filter\": \"(datum.publisher === 'Marvel')\"}], \"width\": 240}], \"resolve\": {\"scale\": {\"y\": \"shared\"}}}], \"data\": {\"url\": \"altair-data-fb3f5fa205f4481ca029c6794db6019c.json\", \"format\": {\"type\": \"json\"}}, \"$schema\": \"https://vega.github.io/schema/vega-lite/v4.17.0.json\"}, {\"mode\": \"vega-lite\"});\n",
       "</script>"
      ],
      "text/plain": [
       "alt.VConcatChart(...)"
      ]
     },
     "execution_count": 26,
     "metadata": {},
     "output_type": "execute_result"
    }
   ],
   "source": [
    "# and now that we have them, let's put them together\n",
    "genIntroVis(bar_dc, bar_marvel, line_dc, line_marvel)"
   ]
  },
  {
   "cell_type": "code",
   "execution_count": 15,
   "metadata": {
    "deletable": false,
    "nbgrader": {
     "cell_type": "code",
     "checksum": "4d8b3db3cfa9512f3d7f8824ce6e24c6",
     "grade": true,
     "grade_id": "cell-ecefd1b67db28a1f",
     "locked": false,
     "points": 0,
     "schema_version": 3,
     "solution": true
    }
   },
   "outputs": [],
   "source": [
    "#brush object\n",
    "brush = alt.selection_interval();"
   ]
  },
  {
   "cell_type": "code",
   "execution_count": 16,
   "metadata": {
    "deletable": false,
    "nbgrader": {
     "cell_type": "code",
     "checksum": "a6c157d8cfb9c6348a91dfdaf02b0115",
     "grade": true,
     "grade_id": "cell-738ecb3e04f17ae1",
     "locked": false,
     "points": 0,
     "schema_version": 3,
     "solution": true
    }
   },
   "outputs": [],
   "source": [
    "#brush onject modified\n",
    "colorConditionDC = alt.condition(brush,alt.value('#2182bd'),alt.value(\"gray\"))"
   ]
  },
  {
   "cell_type": "code",
   "execution_count": 18,
   "metadata": {
    "deletable": false,
    "nbgrader": {
     "cell_type": "code",
     "checksum": "beba450b853d65e4fa6eda062e50cb37",
     "grade": true,
     "grade_id": "cell-583afd8f5835c173",
     "locked": false,
     "points": 0,
     "schema_version": 3,
     "solution": true
    }
   },
   "outputs": [],
   "source": [
    "# modify this cell to create the brush object\n",
    "i_bar_dc = bar_dc.add_selection(brush).encode(color=colorConditionDC)"
   ]
  },
  {
   "cell_type": "code",
   "execution_count": 27,
   "metadata": {},
   "outputs": [
    {
     "data": {
      "text/html": [
       "\n",
       "<div id=\"altair-viz-cf5e44afaabe41f98c29f6fd2cfe3ff9\"></div>\n",
       "<script type=\"text/javascript\">\n",
       "  var VEGA_DEBUG = (typeof VEGA_DEBUG == \"undefined\") ? {} : VEGA_DEBUG;\n",
       "  (function(spec, embedOpt){\n",
       "    let outputDiv = document.currentScript.previousElementSibling;\n",
       "    if (outputDiv.id !== \"altair-viz-cf5e44afaabe41f98c29f6fd2cfe3ff9\") {\n",
       "      outputDiv = document.getElementById(\"altair-viz-cf5e44afaabe41f98c29f6fd2cfe3ff9\");\n",
       "    }\n",
       "    const paths = {\n",
       "      \"vega\": \"https://cdn.jsdelivr.net/npm//vega@5?noext\",\n",
       "      \"vega-lib\": \"https://cdn.jsdelivr.net/npm//vega-lib?noext\",\n",
       "      \"vega-lite\": \"https://cdn.jsdelivr.net/npm//vega-lite@4.17.0?noext\",\n",
       "      \"vega-embed\": \"https://cdn.jsdelivr.net/npm//vega-embed@6?noext\",\n",
       "    };\n",
       "\n",
       "    function maybeLoadScript(lib, version) {\n",
       "      var key = `${lib.replace(\"-\", \"\")}_version`;\n",
       "      return (VEGA_DEBUG[key] == version) ?\n",
       "        Promise.resolve(paths[lib]) :\n",
       "        new Promise(function(resolve, reject) {\n",
       "          var s = document.createElement('script');\n",
       "          document.getElementsByTagName(\"head\")[0].appendChild(s);\n",
       "          s.async = true;\n",
       "          s.onload = () => {\n",
       "            VEGA_DEBUG[key] = version;\n",
       "            return resolve(paths[lib]);\n",
       "          };\n",
       "          s.onerror = () => reject(`Error loading script: ${paths[lib]}`);\n",
       "          s.src = paths[lib];\n",
       "        });\n",
       "    }\n",
       "\n",
       "    function showError(err) {\n",
       "      outputDiv.innerHTML = `<div class=\"error\" style=\"color:red;\">${err}</div>`;\n",
       "      throw err;\n",
       "    }\n",
       "\n",
       "    function displayChart(vegaEmbed) {\n",
       "      vegaEmbed(outputDiv, spec, embedOpt)\n",
       "        .catch(err => showError(`Javascript Error: ${err.message}<br>This usually means there's a typo in your chart specification. See the javascript console for the full traceback.`));\n",
       "    }\n",
       "\n",
       "    if(typeof define === \"function\" && define.amd) {\n",
       "      requirejs.config({paths});\n",
       "      require([\"vega-embed\"], displayChart, err => showError(`Error loading script: ${err.message}`));\n",
       "    } else {\n",
       "      maybeLoadScript(\"vega\", \"5\")\n",
       "        .then(() => maybeLoadScript(\"vega-lite\", \"4.17.0\"))\n",
       "        .then(() => maybeLoadScript(\"vega-embed\", \"6\"))\n",
       "        .catch(showError)\n",
       "        .then(() => displayChart(vegaEmbed));\n",
       "    }\n",
       "  })({\"usermeta\": {\"embedOptions\": {\"theme\": \"fivethirtyeight\"}}, \"config\": {\"view\": {\"continuousWidth\": 400, \"continuousHeight\": 300}}, \"data\": {\"url\": \"altair-data-fb3f5fa205f4481ca029c6794db6019c.json\", \"format\": {\"type\": \"json\"}}, \"mark\": {\"type\": \"bar\", \"size\": 2.5}, \"encoding\": {\"color\": {\"condition\": {\"value\": \"#2182bd\", \"selection\": \"selector001\"}, \"value\": \"gray\"}, \"x\": {\"axis\": {\"grid\": true, \"labelAngle\": 360, \"labelFontSize\": 15, \"labelFontWeight\": \"bold\", \"labels\": true, \"ticks\": false, \"title\": \"DC, New Earth continuity\", \"titlePadding\": -347, \"values\": [1940, 1960, 1980, 2000]}, \"field\": \"YEAR\", \"type\": \"nominal\"}, \"y\": {\"aggregate\": \"count\", \"axis\": {\"labelFontSize\": 15, \"labelFontWeight\": \"bold\", \"title\": null, \"values\": [0, 100, 200, 300, 400, 500]}, \"scale\": {\"domain\": [0, 500]}, \"type\": \"quantitative\"}}, \"height\": 300, \"selection\": {\"selector001\": {\"type\": \"interval\"}}, \"transform\": [{\"filter\": \"(datum.publisher === 'DC')\"}], \"width\": 240, \"$schema\": \"https://vega.github.io/schema/vega-lite/v4.17.0.json\"}, {\"mode\": \"vega-lite\"});\n",
       "</script>"
      ],
      "text/plain": [
       "alt.Chart(...)"
      ]
     },
     "execution_count": 27,
     "metadata": {},
     "output_type": "execute_result"
    }
   ],
   "source": [
    "# if you did the last step correctly, you should be able to see the selection work for the DC bar chart\n",
    "i_bar_dc"
   ]
  },
  {
   "cell_type": "code",
   "execution_count": 21,
   "metadata": {
    "deletable": false,
    "nbgrader": {
     "cell_type": "code",
     "checksum": "c333a6b310fb18ed1baf9ae45223cfd3",
     "grade": true,
     "grade_id": "cell-1d6b10c5e300593a",
     "locked": false,
     "points": 0,
     "schema_version": 3,
     "solution": true
    }
   },
   "outputs": [],
   "source": [
    "# modify the following two lines\n",
    "colorConditionMarvel = alt.condition(brush,alt.value('#f6573f'),alt.value(\"gray\"))\n",
    "i_bar_marvel = bar_marvel.add_selection(brush).encode(color=colorConditionMarvel)"
   ]
  },
  {
   "cell_type": "code",
   "execution_count": 28,
   "metadata": {},
   "outputs": [
    {
     "data": {
      "text/html": [
       "\n",
       "<div id=\"altair-viz-e809656bed8e4e7abed4bcdb4ce583a9\"></div>\n",
       "<script type=\"text/javascript\">\n",
       "  var VEGA_DEBUG = (typeof VEGA_DEBUG == \"undefined\") ? {} : VEGA_DEBUG;\n",
       "  (function(spec, embedOpt){\n",
       "    let outputDiv = document.currentScript.previousElementSibling;\n",
       "    if (outputDiv.id !== \"altair-viz-e809656bed8e4e7abed4bcdb4ce583a9\") {\n",
       "      outputDiv = document.getElementById(\"altair-viz-e809656bed8e4e7abed4bcdb4ce583a9\");\n",
       "    }\n",
       "    const paths = {\n",
       "      \"vega\": \"https://cdn.jsdelivr.net/npm//vega@5?noext\",\n",
       "      \"vega-lib\": \"https://cdn.jsdelivr.net/npm//vega-lib?noext\",\n",
       "      \"vega-lite\": \"https://cdn.jsdelivr.net/npm//vega-lite@4.17.0?noext\",\n",
       "      \"vega-embed\": \"https://cdn.jsdelivr.net/npm//vega-embed@6?noext\",\n",
       "    };\n",
       "\n",
       "    function maybeLoadScript(lib, version) {\n",
       "      var key = `${lib.replace(\"-\", \"\")}_version`;\n",
       "      return (VEGA_DEBUG[key] == version) ?\n",
       "        Promise.resolve(paths[lib]) :\n",
       "        new Promise(function(resolve, reject) {\n",
       "          var s = document.createElement('script');\n",
       "          document.getElementsByTagName(\"head\")[0].appendChild(s);\n",
       "          s.async = true;\n",
       "          s.onload = () => {\n",
       "            VEGA_DEBUG[key] = version;\n",
       "            return resolve(paths[lib]);\n",
       "          };\n",
       "          s.onerror = () => reject(`Error loading script: ${paths[lib]}`);\n",
       "          s.src = paths[lib];\n",
       "        });\n",
       "    }\n",
       "\n",
       "    function showError(err) {\n",
       "      outputDiv.innerHTML = `<div class=\"error\" style=\"color:red;\">${err}</div>`;\n",
       "      throw err;\n",
       "    }\n",
       "\n",
       "    function displayChart(vegaEmbed) {\n",
       "      vegaEmbed(outputDiv, spec, embedOpt)\n",
       "        .catch(err => showError(`Javascript Error: ${err.message}<br>This usually means there's a typo in your chart specification. See the javascript console for the full traceback.`));\n",
       "    }\n",
       "\n",
       "    if(typeof define === \"function\" && define.amd) {\n",
       "      requirejs.config({paths});\n",
       "      require([\"vega-embed\"], displayChart, err => showError(`Error loading script: ${err.message}`));\n",
       "    } else {\n",
       "      maybeLoadScript(\"vega\", \"5\")\n",
       "        .then(() => maybeLoadScript(\"vega-lite\", \"4.17.0\"))\n",
       "        .then(() => maybeLoadScript(\"vega-embed\", \"6\"))\n",
       "        .catch(showError)\n",
       "        .then(() => displayChart(vegaEmbed));\n",
       "    }\n",
       "  })({\"usermeta\": {\"embedOptions\": {\"theme\": \"fivethirtyeight\"}}, \"config\": {\"view\": {\"continuousWidth\": 400, \"continuousHeight\": 300}}, \"hconcat\": [{\"mark\": {\"type\": \"bar\", \"size\": 2.5}, \"encoding\": {\"color\": {\"condition\": {\"value\": \"#2182bd\", \"selection\": \"selector001\"}, \"value\": \"gray\"}, \"x\": {\"axis\": {\"grid\": true, \"labelAngle\": 360, \"labelFontSize\": 15, \"labelFontWeight\": \"bold\", \"labels\": true, \"ticks\": false, \"title\": \"DC, New Earth continuity\", \"titlePadding\": -347, \"values\": [1940, 1960, 1980, 2000]}, \"field\": \"YEAR\", \"type\": \"nominal\"}, \"y\": {\"aggregate\": \"count\", \"axis\": {\"labelFontSize\": 15, \"labelFontWeight\": \"bold\", \"title\": null, \"values\": [0, 100, 200, 300, 400, 500]}, \"scale\": {\"domain\": [0, 500]}, \"type\": \"quantitative\"}}, \"height\": 300, \"selection\": {\"selector001\": {\"type\": \"interval\"}}, \"transform\": [{\"filter\": \"(datum.publisher === 'DC')\"}], \"width\": 240}, {\"mark\": {\"type\": \"bar\", \"color\": \"#f6573f\"}, \"encoding\": {\"color\": {\"condition\": {\"value\": \"#f6573f\", \"selection\": \"selector001\"}, \"value\": \"gray\"}, \"x\": {\"axis\": {\"grid\": true, \"labelAngle\": 360, \"labelFontSize\": 15, \"labelFontWeight\": \"bold\", \"labels\": true, \"ticks\": false, \"title\": \"Marvel, Earth-616 continuity\", \"titlePadding\": -347, \"values\": [1940, 1960, 1980, 2000]}, \"field\": \"YEAR\", \"type\": \"nominal\"}, \"y\": {\"aggregate\": \"count\", \"axis\": {\"labelFontSize\": 15, \"labelFontWeight\": \"bold\", \"title\": null, \"values\": [0, 100, 200, 300, 400, 500]}, \"scale\": {\"domain\": [0, 500]}, \"type\": \"quantitative\"}}, \"height\": 300, \"selection\": {\"selector001\": {\"type\": \"interval\"}}, \"transform\": [{\"filter\": \"(datum.publisher === 'Marvel')\"}], \"width\": 240}], \"data\": {\"url\": \"altair-data-fb3f5fa205f4481ca029c6794db6019c.json\", \"format\": {\"type\": \"json\"}}, \"resolve\": {\"scale\": {\"y\": \"shared\"}}, \"title\": \"New Comic Book Characters Introduced Per Year\", \"$schema\": \"https://vega.github.io/schema/vega-lite/v4.17.0.json\"}, {\"mode\": \"vega-lite\"});\n",
       "</script>"
      ],
      "text/plain": [
       "alt.HConcatChart(...)"
      ]
     },
     "execution_count": 28,
     "metadata": {},
     "output_type": "execute_result"
    }
   ],
   "source": [
    "# top piece \n",
    "top_charts = alt.hconcat(i_bar_dc,i_bar_marvel).resolve_scale(y='shared'\n",
    "           ).properties(\n",
    "                    title='New Comic Book Characters Introduced Per Year'\n",
    "           )\n",
    "top_charts"
   ]
  },
  {
   "cell_type": "code",
   "execution_count": 23,
   "metadata": {},
   "outputs": [],
   "source": [
    "i_line_dc = line_dc.add_selection(brush).transform_filter(brush)\n",
    "\n",
    "i_line_marvel = line_marvel.add_selection(brush).transform_filter(brush)"
   ]
  },
  {
   "cell_type": "code",
   "execution_count": 29,
   "metadata": {},
   "outputs": [
    {
     "data": {
      "text/html": [
       "\n",
       "<div id=\"altair-viz-73cd588cab134d0f9ab6eff1e538fdb9\"></div>\n",
       "<script type=\"text/javascript\">\n",
       "  var VEGA_DEBUG = (typeof VEGA_DEBUG == \"undefined\") ? {} : VEGA_DEBUG;\n",
       "  (function(spec, embedOpt){\n",
       "    let outputDiv = document.currentScript.previousElementSibling;\n",
       "    if (outputDiv.id !== \"altair-viz-73cd588cab134d0f9ab6eff1e538fdb9\") {\n",
       "      outputDiv = document.getElementById(\"altair-viz-73cd588cab134d0f9ab6eff1e538fdb9\");\n",
       "    }\n",
       "    const paths = {\n",
       "      \"vega\": \"https://cdn.jsdelivr.net/npm//vega@5?noext\",\n",
       "      \"vega-lib\": \"https://cdn.jsdelivr.net/npm//vega-lib?noext\",\n",
       "      \"vega-lite\": \"https://cdn.jsdelivr.net/npm//vega-lite@4.17.0?noext\",\n",
       "      \"vega-embed\": \"https://cdn.jsdelivr.net/npm//vega-embed@6?noext\",\n",
       "    };\n",
       "\n",
       "    function maybeLoadScript(lib, version) {\n",
       "      var key = `${lib.replace(\"-\", \"\")}_version`;\n",
       "      return (VEGA_DEBUG[key] == version) ?\n",
       "        Promise.resolve(paths[lib]) :\n",
       "        new Promise(function(resolve, reject) {\n",
       "          var s = document.createElement('script');\n",
       "          document.getElementsByTagName(\"head\")[0].appendChild(s);\n",
       "          s.async = true;\n",
       "          s.onload = () => {\n",
       "            VEGA_DEBUG[key] = version;\n",
       "            return resolve(paths[lib]);\n",
       "          };\n",
       "          s.onerror = () => reject(`Error loading script: ${paths[lib]}`);\n",
       "          s.src = paths[lib];\n",
       "        });\n",
       "    }\n",
       "\n",
       "    function showError(err) {\n",
       "      outputDiv.innerHTML = `<div class=\"error\" style=\"color:red;\">${err}</div>`;\n",
       "      throw err;\n",
       "    }\n",
       "\n",
       "    function displayChart(vegaEmbed) {\n",
       "      vegaEmbed(outputDiv, spec, embedOpt)\n",
       "        .catch(err => showError(`Javascript Error: ${err.message}<br>This usually means there's a typo in your chart specification. See the javascript console for the full traceback.`));\n",
       "    }\n",
       "\n",
       "    if(typeof define === \"function\" && define.amd) {\n",
       "      requirejs.config({paths});\n",
       "      require([\"vega-embed\"], displayChart, err => showError(`Error loading script: ${err.message}`));\n",
       "    } else {\n",
       "      maybeLoadScript(\"vega\", \"5\")\n",
       "        .then(() => maybeLoadScript(\"vega-lite\", \"4.17.0\"))\n",
       "        .then(() => maybeLoadScript(\"vega-embed\", \"6\"))\n",
       "        .catch(showError)\n",
       "        .then(() => displayChart(vegaEmbed));\n",
       "    }\n",
       "  })({\"usermeta\": {\"embedOptions\": {\"theme\": \"fivethirtyeight\"}}, \"config\": {\"view\": {\"continuousWidth\": 400, \"continuousHeight\": 300, \"strokeWidth\": 0}}, \"vconcat\": [{\"hconcat\": [{\"mark\": {\"type\": \"bar\", \"size\": 2.5}, \"encoding\": {\"color\": {\"condition\": {\"value\": \"#2182bd\", \"selection\": \"selector001\"}, \"value\": \"gray\"}, \"x\": {\"axis\": {\"grid\": true, \"labelAngle\": 360, \"labelFontSize\": 15, \"labelFontWeight\": \"bold\", \"labels\": true, \"ticks\": false, \"title\": \"DC, New Earth continuity\", \"titlePadding\": -347, \"values\": [1940, 1960, 1980, 2000]}, \"field\": \"YEAR\", \"type\": \"nominal\"}, \"y\": {\"aggregate\": \"count\", \"axis\": {\"labelFontSize\": 15, \"labelFontWeight\": \"bold\", \"title\": null, \"values\": [0, 100, 200, 300, 400, 500]}, \"scale\": {\"domain\": [0, 500]}, \"type\": \"quantitative\"}}, \"height\": 300, \"selection\": {\"selector001\": {\"type\": \"interval\"}}, \"transform\": [{\"filter\": \"(datum.publisher === 'DC')\"}], \"width\": 240}, {\"mark\": {\"type\": \"bar\", \"color\": \"#f6573f\"}, \"encoding\": {\"color\": {\"condition\": {\"value\": \"#f6573f\", \"selection\": \"selector001\"}, \"value\": \"gray\"}, \"x\": {\"axis\": {\"grid\": true, \"labelAngle\": 360, \"labelFontSize\": 15, \"labelFontWeight\": \"bold\", \"labels\": true, \"ticks\": false, \"title\": \"Marvel, Earth-616 continuity\", \"titlePadding\": -347, \"values\": [1940, 1960, 1980, 2000]}, \"field\": \"YEAR\", \"type\": \"nominal\"}, \"y\": {\"aggregate\": \"count\", \"axis\": {\"labelFontSize\": 15, \"labelFontWeight\": \"bold\", \"title\": null, \"values\": [0, 100, 200, 300, 400, 500]}, \"scale\": {\"domain\": [0, 500]}, \"type\": \"quantitative\"}}, \"height\": 300, \"selection\": {\"selector001\": {\"type\": \"interval\"}}, \"transform\": [{\"filter\": \"(datum.publisher === 'Marvel')\"}], \"width\": 240}], \"resolve\": {\"scale\": {\"y\": \"shared\"}}, \"title\": \"New Comic Book Characters Introduced Per Year\"}, {\"hconcat\": [{\"mark\": \"line\", \"encoding\": {\"color\": {\"field\": \"SEX\", \"legend\": {\"orient\": \"bottom\"}, \"scale\": {\"domain\": [\"Female Characters\", \"Male Characters\"], \"range\": [\"#31a354\", \"#ce6dbd\"]}, \"type\": \"nominal\"}, \"x\": {\"axis\": {\"grid\": true, \"labelAngle\": 360, \"labelFontSize\": 15, \"labelFontWeight\": \"bold\", \"title\": \"Dc, Female and Male characters over time\", \"titleFontSize\": 12, \"titlePadding\": -130, \"values\": [1940, 1960, 1980, 2000]}, \"field\": \"YEAR\", \"type\": \"nominal\"}, \"y\": {\"aggregate\": \"count\", \"axis\": {\"grid\": false, \"labelFontSize\": 15, \"labelFontWeight\": \"bold\", \"title\": null}, \"type\": \"quantitative\"}}, \"height\": 80, \"selection\": {\"selector001\": {\"type\": \"interval\"}}, \"transform\": [{\"filter\": \"(datum.publisher === 'DC')\"}, {\"filter\": {\"selection\": \"selector001\"}}], \"width\": 240}, {\"mark\": \"line\", \"encoding\": {\"color\": {\"field\": \"SEX\", \"legend\": {\"orient\": \"bottom\"}, \"scale\": {\"domain\": [\"Female Characters\", \"Male Characters\"], \"range\": [\"#31a354\", \"#ce6dbd\"]}, \"type\": \"nominal\"}, \"x\": {\"axis\": {\"grid\": true, \"labelAngle\": 360, \"labelFontSize\": 15, \"labelFontWeight\": \"bold\", \"title\": \"Marvel, Female and Male characters over time\", \"titleFontSize\": 12, \"titlePadding\": -130, \"values\": [1940, 1960, 1980, 2000]}, \"field\": \"YEAR\", \"type\": \"nominal\"}, \"y\": {\"aggregate\": \"count\", \"axis\": {\"grid\": false, \"labelFontSize\": 15, \"labelFontWeight\": \"bold\", \"title\": null}, \"type\": \"quantitative\"}}, \"height\": 80, \"selection\": {\"selector001\": {\"type\": \"interval\"}}, \"transform\": [{\"filter\": \"(datum.publisher === 'Marvel')\"}, {\"filter\": {\"selection\": \"selector001\"}}], \"width\": 240}], \"resolve\": {\"scale\": {\"y\": \"shared\"}}}], \"data\": {\"url\": \"altair-data-fb3f5fa205f4481ca029c6794db6019c.json\", \"format\": {\"type\": \"json\"}}, \"$schema\": \"https://vega.github.io/schema/vega-lite/v4.17.0.json\"}, {\"mode\": \"vega-lite\"});\n",
       "</script>"
      ],
      "text/plain": [
       "alt.VConcatChart(...)"
      ]
     },
     "execution_count": 29,
     "metadata": {},
     "output_type": "execute_result"
    }
   ],
   "source": [
    "\n",
    "genIntroVis(i_bar_dc, i_bar_marvel, i_line_dc, i_line_marvel)"
   ]
  },
  {
   "cell_type": "code",
   "execution_count": 30,
   "metadata": {},
   "outputs": [],
   "source": [
    "#provided code\n",
    "def generatePercentTable(comicDF, publisher):\n",
    "    # input: comicDF -- dataframe of characters as described above (e.g., comic)\n",
    "    # input: publisher -- a string, either DC or Marvel\n",
    "    # return: a procesed percent table\n",
    "    \n",
    "    _df = comicDF[comicDF.publisher == publisher]\n",
    "    _df = _df[['SEX','YEAR']]\n",
    "    _df = pd.get_dummies(_df)\n",
    "    _df.YEAR = _df.YEAR.astype('int')\n",
    "    _df = _df.groupby(['YEAR']).sum()\n",
    "\n",
    "    _df['total'] = 0\n",
    "    _df['total'] = _df['total'].astype('int')\n",
    "    for col in list(comicDF[comicDF.publisher == publisher].SEX.unique()):\n",
    "        col = str(col)\n",
    "        if (col != 'nan'):\n",
    "            _df['total'] = _df['total'].astype('int') + _df[\"SEX_\"+col].astype('int')\n",
    "\n",
    "    _df['% Female'] = _df['SEX_Female Characters'] / _df.total\n",
    "    _df = _df.reset_index()\n",
    "    _df = _df[['YEAR','% Female','SEX_Female Characters','SEX_Male Characters','total']]\n",
    "    _df['publisher'] = publisher\n",
    "    _df = _df[(_df.YEAR >= 1979)]\n",
    "    _df['Year-over-year change in % Female'] = _df['% Female'].pct_change()\n",
    "    toret = _df[(_df.YEAR > 1980) & (_df.YEAR < 2013)].copy()\n",
    "    t2 = toret.cumsum()\n",
    "    toret['% Female characters to date'] = list(t2['SEX_Female Characters'] / t2['total'])\n",
    "    return(toret)\n",
    "\n"
   ]
  },
  {
   "cell_type": "code",
   "execution_count": 31,
   "metadata": {},
   "outputs": [],
   "source": [
    "#percent tabels for publisher\n",
    "changedata = pd.concat([generatePercentTable(comic,\"Marvel\"),generatePercentTable(comic,\"DC\")])\n",
    "\n",
    "#melt\n",
    "changedata = pd.melt(changedata,id_vars=['YEAR','publisher'],value_vars=['% Female',\n",
    "                                                             'Year-over-year change in % Female',\n",
    "                                                             '% Female characters to date'])"
   ]
  },
  {
   "cell_type": "code",
   "execution_count": 32,
   "metadata": {},
   "outputs": [
    {
     "data": {
      "text/html": [
       "<div>\n",
       "<style scoped>\n",
       "    .dataframe tbody tr th:only-of-type {\n",
       "        vertical-align: middle;\n",
       "    }\n",
       "\n",
       "    .dataframe tbody tr th {\n",
       "        vertical-align: top;\n",
       "    }\n",
       "\n",
       "    .dataframe thead th {\n",
       "        text-align: right;\n",
       "    }\n",
       "</style>\n",
       "<table border=\"1\" class=\"dataframe\">\n",
       "  <thead>\n",
       "    <tr style=\"text-align: right;\">\n",
       "      <th></th>\n",
       "      <th>YEAR</th>\n",
       "      <th>publisher</th>\n",
       "      <th>variable</th>\n",
       "      <th>value</th>\n",
       "    </tr>\n",
       "  </thead>\n",
       "  <tbody>\n",
       "    <tr>\n",
       "      <th>16</th>\n",
       "      <td>1997</td>\n",
       "      <td>Marvel</td>\n",
       "      <td>% Female</td>\n",
       "      <td>0.319298</td>\n",
       "    </tr>\n",
       "    <tr>\n",
       "      <th>157</th>\n",
       "      <td>2010</td>\n",
       "      <td>Marvel</td>\n",
       "      <td>% Female characters to date</td>\n",
       "      <td>0.291548</td>\n",
       "    </tr>\n",
       "    <tr>\n",
       "      <th>161</th>\n",
       "      <td>1982</td>\n",
       "      <td>DC</td>\n",
       "      <td>% Female characters to date</td>\n",
       "      <td>0.276786</td>\n",
       "    </tr>\n",
       "    <tr>\n",
       "      <th>27</th>\n",
       "      <td>2008</td>\n",
       "      <td>Marvel</td>\n",
       "      <td>% Female</td>\n",
       "      <td>0.291908</td>\n",
       "    </tr>\n",
       "    <tr>\n",
       "      <th>180</th>\n",
       "      <td>2001</td>\n",
       "      <td>DC</td>\n",
       "      <td>% Female characters to date</td>\n",
       "      <td>0.314685</td>\n",
       "    </tr>\n",
       "  </tbody>\n",
       "</table>\n",
       "</div>"
      ],
      "text/plain": [
       "     YEAR publisher                     variable     value\n",
       "16   1997    Marvel                     % Female  0.319298\n",
       "157  2010    Marvel  % Female characters to date  0.291548\n",
       "161  1982        DC  % Female characters to date  0.276786\n",
       "27   2008    Marvel                     % Female  0.291908\n",
       "180  2001        DC  % Female characters to date  0.314685"
      ]
     },
     "execution_count": 32,
     "metadata": {},
     "output_type": "execute_result"
    }
   ],
   "source": [
    "# let's see what's inside\n",
    "changedata.sample(5)"
   ]
  },
  {
   "cell_type": "code",
   "execution_count": 34,
   "metadata": {
    "deletable": false,
    "nbgrader": {
     "cell_type": "code",
     "checksum": "a62e6933975bf4cfda19d5f29e8842d2",
     "grade": true,
     "grade_id": "cell-504631e1df0d8575",
     "locked": false,
     "points": 0,
     "schema_version": 3,
     "solution": true
    }
   },
   "outputs": [],
   "source": [
    "def generateLineChartP21(changeDF):\n",
    "    \n",
    "    variable_selection = alt.selection_single(\n",
    "    name='Data',\n",
    "    fields=['variable'],\n",
    "    bind=alt.binding_select(options=list(changeDF['variable'].unique())),\n",
    "    init={'variable': list(changeDF['variable'].unique())[0]}\n",
    "    )\n",
    "\n",
    "\n",
    "    line_chart = alt.Chart(changeDF).mark_line().encode(\n",
    "        x='YEAR:O', \n",
    "        y='value:Q',\n",
    "        color='publisher:N'\n",
    "    ).add_selection(\n",
    "        variable_selection\n",
    "    ).transform_filter(\n",
    "        variable_selection\n",
    "    )\n",
    "\n",
    "    return line_chart\n",
    "\n"
   ]
  },
  {
   "cell_type": "code",
   "execution_count": 35,
   "metadata": {},
   "outputs": [
    {
     "data": {
      "text/html": [
       "\n",
       "<div id=\"altair-viz-8175719430e24be3babf3bb144563dbb\"></div>\n",
       "<script type=\"text/javascript\">\n",
       "  var VEGA_DEBUG = (typeof VEGA_DEBUG == \"undefined\") ? {} : VEGA_DEBUG;\n",
       "  (function(spec, embedOpt){\n",
       "    let outputDiv = document.currentScript.previousElementSibling;\n",
       "    if (outputDiv.id !== \"altair-viz-8175719430e24be3babf3bb144563dbb\") {\n",
       "      outputDiv = document.getElementById(\"altair-viz-8175719430e24be3babf3bb144563dbb\");\n",
       "    }\n",
       "    const paths = {\n",
       "      \"vega\": \"https://cdn.jsdelivr.net/npm//vega@5?noext\",\n",
       "      \"vega-lib\": \"https://cdn.jsdelivr.net/npm//vega-lib?noext\",\n",
       "      \"vega-lite\": \"https://cdn.jsdelivr.net/npm//vega-lite@4.17.0?noext\",\n",
       "      \"vega-embed\": \"https://cdn.jsdelivr.net/npm//vega-embed@6?noext\",\n",
       "    };\n",
       "\n",
       "    function maybeLoadScript(lib, version) {\n",
       "      var key = `${lib.replace(\"-\", \"\")}_version`;\n",
       "      return (VEGA_DEBUG[key] == version) ?\n",
       "        Promise.resolve(paths[lib]) :\n",
       "        new Promise(function(resolve, reject) {\n",
       "          var s = document.createElement('script');\n",
       "          document.getElementsByTagName(\"head\")[0].appendChild(s);\n",
       "          s.async = true;\n",
       "          s.onload = () => {\n",
       "            VEGA_DEBUG[key] = version;\n",
       "            return resolve(paths[lib]);\n",
       "          };\n",
       "          s.onerror = () => reject(`Error loading script: ${paths[lib]}`);\n",
       "          s.src = paths[lib];\n",
       "        });\n",
       "    }\n",
       "\n",
       "    function showError(err) {\n",
       "      outputDiv.innerHTML = `<div class=\"error\" style=\"color:red;\">${err}</div>`;\n",
       "      throw err;\n",
       "    }\n",
       "\n",
       "    function displayChart(vegaEmbed) {\n",
       "      vegaEmbed(outputDiv, spec, embedOpt)\n",
       "        .catch(err => showError(`Javascript Error: ${err.message}<br>This usually means there's a typo in your chart specification. See the javascript console for the full traceback.`));\n",
       "    }\n",
       "\n",
       "    if(typeof define === \"function\" && define.amd) {\n",
       "      requirejs.config({paths});\n",
       "      require([\"vega-embed\"], displayChart, err => showError(`Error loading script: ${err.message}`));\n",
       "    } else {\n",
       "      maybeLoadScript(\"vega\", \"5\")\n",
       "        .then(() => maybeLoadScript(\"vega-lite\", \"4.17.0\"))\n",
       "        .then(() => maybeLoadScript(\"vega-embed\", \"6\"))\n",
       "        .catch(showError)\n",
       "        .then(() => displayChart(vegaEmbed));\n",
       "    }\n",
       "  })({\"usermeta\": {\"embedOptions\": {\"theme\": \"fivethirtyeight\"}}, \"config\": {\"view\": {\"continuousWidth\": 400, \"continuousHeight\": 300}}, \"data\": {\"url\": \"altair-data-01ff98150960fd989d5dbe6275f5b9e7.json\", \"format\": {\"type\": \"json\"}}, \"mark\": \"line\", \"encoding\": {\"color\": {\"field\": \"publisher\", \"type\": \"nominal\"}, \"x\": {\"field\": \"YEAR\", \"type\": \"ordinal\"}, \"y\": {\"field\": \"value\", \"type\": \"quantitative\"}}, \"selection\": {\"Data\": {\"type\": \"single\", \"fields\": [\"variable\"], \"bind\": {\"input\": \"select\", \"options\": [\"% Female\", \"Year-over-year change in % Female\", \"% Female characters to date\"]}, \"init\": {\"variable\": \"% Female\"}}}, \"transform\": [{\"filter\": {\"selection\": \"Data\"}}], \"$schema\": \"https://vega.github.io/schema/vega-lite/v4.17.0.json\"}, {\"mode\": \"vega-lite\"});\n",
       "</script>"
      ],
      "text/plain": [
       "alt.Chart(...)"
      ]
     },
     "execution_count": 35,
     "metadata": {},
     "output_type": "execute_result"
    }
   ],
   "source": [
    "#line chart with filter\n",
    "generateLineChartP21(changedata)"
   ]
  },
  {
   "cell_type": "code",
   "execution_count": 36,
   "metadata": {
    "deletable": false,
    "nbgrader": {
     "cell_type": "code",
     "checksum": "3dbb3b64b769ef4c5f438793dc7d8737",
     "grade": true,
     "grade_id": "cell-1f59348cfddbfcf3",
     "locked": false,
     "points": 0,
     "schema_version": 3,
     "solution": true
    }
   },
   "outputs": [],
   "source": [
    "def generateLineChartP22(changeDF):\n",
    "    # input: changeDF -- the data frame, formatted as changedata above\n",
    "    # return: an altar chart as described above\n",
    "    \n",
    "    # YOUR CODE HERE\n",
    "    nearest = alt.selection_single(on='mouseover', nearest=True, fields=['YEAR'],empty=\"none\")\n",
    "\n",
    "    variable_selection = alt.selection_single(\n",
    "    name='Data',\n",
    "    fields=['variable'],\n",
    "    bind=alt.binding_select(options=list(changeDF['variable'].unique())),\n",
    "    init={'variable': list(changeDF['variable'].unique())[0]}\n",
    "    )\n",
    "\n",
    "    #create the line chart\n",
    "    line = alt.Chart(changeDF).mark_line().encode(\n",
    "        x='YEAR:O', \n",
    "        y='value:Q',\n",
    "        color='publisher:N'\n",
    "    )\n",
    "\n",
    "    #empty == 'none' removes points from displaying at the beginning\n",
    "    \n",
    "    #sets all points opacity to zero and adds the selection \n",
    "    selectors = alt.Chart(changeDF).mark_point().encode(\n",
    "        x='YEAR:O',\n",
    "        opacity=alt.value(0),\n",
    "    ).add_selection(\n",
    "        nearest\n",
    "    )\n",
    "\n",
    "    #at the beginning all points are encoded. hovering with the mouse leads all other points to have an opacity of zero\n",
    "    #essentially only the point nearest the mouse will be displayed\n",
    "    points = line.mark_point().encode(\n",
    "        opacity=alt.condition(nearest, alt.value(1), alt.value(0))\n",
    "    )\n",
    "\n",
    "    #adds text with the percentage format based on the condition of nearest otherwise no text\n",
    "    #dx and dy provide location\n",
    "    text = line.mark_text(align='left', dx=5, dy=-5).encode(\n",
    "        text=alt.condition(nearest, alt.Text('value:Q', format='.0%'), alt.value(' '))\n",
    "    )\n",
    "\n",
    "    #adds a rule (vertical line) at the point where the line is nearest to the mouse (hover)\n",
    "    rules = alt.Chart(changeDF).mark_rule(color='gray').encode(\n",
    "        x='YEAR:O',\n",
    "    ).transform_filter(\n",
    "        nearest\n",
    "    )\n",
    "\n",
    "    #layer all of the charts\n",
    "    final = alt.layer(\n",
    "        line, selectors, points, rules, text\n",
    "    )\n",
    "\n",
    "    #add back the selection widget so the charts are not all dispalyed at the same time\n",
    "    final = final.add_selection(\n",
    "        variable_selection\n",
    "    ).transform_filter(\n",
    "        variable_selection\n",
    "    )\n",
    "    \n",
    "    \n",
    "    return final\n"
   ]
  },
  {
   "cell_type": "code",
   "execution_count": 37,
   "metadata": {},
   "outputs": [
    {
     "data": {
      "text/html": [
       "\n",
       "<div id=\"altair-viz-a4ab4d3fc4e74564a9d554c234cbbcac\"></div>\n",
       "<script type=\"text/javascript\">\n",
       "  var VEGA_DEBUG = (typeof VEGA_DEBUG == \"undefined\") ? {} : VEGA_DEBUG;\n",
       "  (function(spec, embedOpt){\n",
       "    let outputDiv = document.currentScript.previousElementSibling;\n",
       "    if (outputDiv.id !== \"altair-viz-a4ab4d3fc4e74564a9d554c234cbbcac\") {\n",
       "      outputDiv = document.getElementById(\"altair-viz-a4ab4d3fc4e74564a9d554c234cbbcac\");\n",
       "    }\n",
       "    const paths = {\n",
       "      \"vega\": \"https://cdn.jsdelivr.net/npm//vega@5?noext\",\n",
       "      \"vega-lib\": \"https://cdn.jsdelivr.net/npm//vega-lib?noext\",\n",
       "      \"vega-lite\": \"https://cdn.jsdelivr.net/npm//vega-lite@4.17.0?noext\",\n",
       "      \"vega-embed\": \"https://cdn.jsdelivr.net/npm//vega-embed@6?noext\",\n",
       "    };\n",
       "\n",
       "    function maybeLoadScript(lib, version) {\n",
       "      var key = `${lib.replace(\"-\", \"\")}_version`;\n",
       "      return (VEGA_DEBUG[key] == version) ?\n",
       "        Promise.resolve(paths[lib]) :\n",
       "        new Promise(function(resolve, reject) {\n",
       "          var s = document.createElement('script');\n",
       "          document.getElementsByTagName(\"head\")[0].appendChild(s);\n",
       "          s.async = true;\n",
       "          s.onload = () => {\n",
       "            VEGA_DEBUG[key] = version;\n",
       "            return resolve(paths[lib]);\n",
       "          };\n",
       "          s.onerror = () => reject(`Error loading script: ${paths[lib]}`);\n",
       "          s.src = paths[lib];\n",
       "        });\n",
       "    }\n",
       "\n",
       "    function showError(err) {\n",
       "      outputDiv.innerHTML = `<div class=\"error\" style=\"color:red;\">${err}</div>`;\n",
       "      throw err;\n",
       "    }\n",
       "\n",
       "    function displayChart(vegaEmbed) {\n",
       "      vegaEmbed(outputDiv, spec, embedOpt)\n",
       "        .catch(err => showError(`Javascript Error: ${err.message}<br>This usually means there's a typo in your chart specification. See the javascript console for the full traceback.`));\n",
       "    }\n",
       "\n",
       "    if(typeof define === \"function\" && define.amd) {\n",
       "      requirejs.config({paths});\n",
       "      require([\"vega-embed\"], displayChart, err => showError(`Error loading script: ${err.message}`));\n",
       "    } else {\n",
       "      maybeLoadScript(\"vega\", \"5\")\n",
       "        .then(() => maybeLoadScript(\"vega-lite\", \"4.17.0\"))\n",
       "        .then(() => maybeLoadScript(\"vega-embed\", \"6\"))\n",
       "        .catch(showError)\n",
       "        .then(() => displayChart(vegaEmbed));\n",
       "    }\n",
       "  })({\"usermeta\": {\"embedOptions\": {\"theme\": \"fivethirtyeight\"}}, \"config\": {\"view\": {\"continuousWidth\": 400, \"continuousHeight\": 300}}, \"layer\": [{\"mark\": \"line\", \"encoding\": {\"color\": {\"field\": \"publisher\", \"type\": \"nominal\"}, \"x\": {\"field\": \"YEAR\", \"type\": \"ordinal\"}, \"y\": {\"field\": \"value\", \"type\": \"quantitative\"}}, \"selection\": {\"Data\": {\"type\": \"single\", \"fields\": [\"variable\"], \"bind\": {\"input\": \"select\", \"options\": [\"% Female\", \"Year-over-year change in % Female\", \"% Female characters to date\"]}, \"init\": {\"variable\": \"% Female\"}}}}, {\"mark\": \"point\", \"encoding\": {\"opacity\": {\"value\": 0}, \"x\": {\"field\": \"YEAR\", \"type\": \"ordinal\"}}, \"selection\": {\"selector002\": {\"type\": \"single\", \"on\": \"mouseover\", \"nearest\": true, \"fields\": [\"YEAR\"], \"empty\": \"none\"}}}, {\"mark\": \"point\", \"encoding\": {\"color\": {\"field\": \"publisher\", \"type\": \"nominal\"}, \"opacity\": {\"condition\": {\"value\": 1, \"selection\": \"selector002\"}, \"value\": 0}, \"x\": {\"field\": \"YEAR\", \"type\": \"ordinal\"}, \"y\": {\"field\": \"value\", \"type\": \"quantitative\"}}}, {\"mark\": {\"type\": \"rule\", \"color\": \"gray\"}, \"encoding\": {\"x\": {\"field\": \"YEAR\", \"type\": \"ordinal\"}}, \"transform\": [{\"filter\": {\"selection\": \"selector002\"}}]}, {\"mark\": {\"type\": \"text\", \"align\": \"left\", \"dx\": 5, \"dy\": -5}, \"encoding\": {\"color\": {\"field\": \"publisher\", \"type\": \"nominal\"}, \"text\": {\"condition\": {\"field\": \"value\", \"format\": \".0%\", \"type\": \"quantitative\", \"selection\": \"selector002\"}, \"value\": \" \"}, \"x\": {\"field\": \"YEAR\", \"type\": \"ordinal\"}, \"y\": {\"field\": \"value\", \"type\": \"quantitative\"}}}], \"data\": {\"url\": \"altair-data-01ff98150960fd989d5dbe6275f5b9e7.json\", \"format\": {\"type\": \"json\"}}, \"transform\": [{\"filter\": {\"selection\": \"Data\"}}], \"$schema\": \"https://vega.github.io/schema/vega-lite/v4.17.0.json\"}, {\"mode\": \"vega-lite\"});\n",
       "</script>"
      ],
      "text/plain": [
       "alt.LayerChart(...)"
      ]
     },
     "execution_count": 37,
     "metadata": {},
     "output_type": "execute_result"
    }
   ],
   "source": [
    "#line chart with mouse over\n",
    "generateLineChartP22(changedata)"
   ]
  },
  {
   "cell_type": "markdown",
   "metadata": {},
   "source": [
    "## Additional interative chart"
   ]
  },
  {
   "cell_type": "code",
   "execution_count": 38,
   "metadata": {},
   "outputs": [],
   "source": [
    "comic_filtered = comic[comic['APPEARANCES'] > 1250]\n",
    "comic_filtered['Name'] = comic_filtered['name'].str.extract(r'^(.*?)(?:\\s*\\()')"
   ]
  },
  {
   "cell_type": "code",
   "execution_count": 39,
   "metadata": {},
   "outputs": [
    {
     "name": "stdout",
     "output_type": "stream",
     "text": [
      "1939.0 1987.0\n"
     ]
    }
   ],
   "source": [
    "#use pandas to get the min/max\n",
    "appearances_min = comic_filtered['YEAR'].min()\n",
    "appearances_max = comic_filtered['YEAR'].max()\n",
    "print(appearances_min,appearances_max)"
   ]
  },
  {
   "cell_type": "code",
   "execution_count": 41,
   "metadata": {
    "scrolled": true
   },
   "outputs": [
    {
     "data": {
      "text/html": [
       "\n",
       "<div id=\"altair-viz-09cc51b3464b40bb826da8206c8d3101\"></div>\n",
       "<script type=\"text/javascript\">\n",
       "  var VEGA_DEBUG = (typeof VEGA_DEBUG == \"undefined\") ? {} : VEGA_DEBUG;\n",
       "  (function(spec, embedOpt){\n",
       "    let outputDiv = document.currentScript.previousElementSibling;\n",
       "    if (outputDiv.id !== \"altair-viz-09cc51b3464b40bb826da8206c8d3101\") {\n",
       "      outputDiv = document.getElementById(\"altair-viz-09cc51b3464b40bb826da8206c8d3101\");\n",
       "    }\n",
       "    const paths = {\n",
       "      \"vega\": \"https://cdn.jsdelivr.net/npm//vega@5?noext\",\n",
       "      \"vega-lib\": \"https://cdn.jsdelivr.net/npm//vega-lib?noext\",\n",
       "      \"vega-lite\": \"https://cdn.jsdelivr.net/npm//vega-lite@4.17.0?noext\",\n",
       "      \"vega-embed\": \"https://cdn.jsdelivr.net/npm//vega-embed@6?noext\",\n",
       "    };\n",
       "\n",
       "    function maybeLoadScript(lib, version) {\n",
       "      var key = `${lib.replace(\"-\", \"\")}_version`;\n",
       "      return (VEGA_DEBUG[key] == version) ?\n",
       "        Promise.resolve(paths[lib]) :\n",
       "        new Promise(function(resolve, reject) {\n",
       "          var s = document.createElement('script');\n",
       "          document.getElementsByTagName(\"head\")[0].appendChild(s);\n",
       "          s.async = true;\n",
       "          s.onload = () => {\n",
       "            VEGA_DEBUG[key] = version;\n",
       "            return resolve(paths[lib]);\n",
       "          };\n",
       "          s.onerror = () => reject(`Error loading script: ${paths[lib]}`);\n",
       "          s.src = paths[lib];\n",
       "        });\n",
       "    }\n",
       "\n",
       "    function showError(err) {\n",
       "      outputDiv.innerHTML = `<div class=\"error\" style=\"color:red;\">${err}</div>`;\n",
       "      throw err;\n",
       "    }\n",
       "\n",
       "    function displayChart(vegaEmbed) {\n",
       "      vegaEmbed(outputDiv, spec, embedOpt)\n",
       "        .catch(err => showError(`Javascript Error: ${err.message}<br>This usually means there's a typo in your chart specification. See the javascript console for the full traceback.`));\n",
       "    }\n",
       "\n",
       "    if(typeof define === \"function\" && define.amd) {\n",
       "      requirejs.config({paths});\n",
       "      require([\"vega-embed\"], displayChart, err => showError(`Error loading script: ${err.message}`));\n",
       "    } else {\n",
       "      maybeLoadScript(\"vega\", \"5\")\n",
       "        .then(() => maybeLoadScript(\"vega-lite\", \"4.17.0\"))\n",
       "        .then(() => maybeLoadScript(\"vega-embed\", \"6\"))\n",
       "        .catch(showError)\n",
       "        .then(() => displayChart(vegaEmbed));\n",
       "    }\n",
       "  })({\"usermeta\": {\"embedOptions\": {\"theme\": \"fivethirtyeight\"}}, \"config\": {\"view\": {\"continuousWidth\": 400, \"continuousHeight\": 300}, \"axis\": {\"labelFontSize\": 14, \"titleFontSize\": 16}, \"title\": {\"anchor\": \"middle\", \"color\": \"black\", \"font\": \"Helvetica\", \"fontSize\": 20}}, \"data\": {\"url\": \"altair-data-edb5317d3311cc8b63d7bfdd1581f1a9.json\", \"format\": {\"type\": \"json\"}}, \"mark\": \"bar\", \"encoding\": {\"color\": {\"field\": \"Name\", \"type\": \"nominal\"}, \"tooltip\": [{\"field\": \"Name\", \"type\": \"nominal\"}, {\"field\": \"APPEARANCES\", \"type\": \"quantitative\"}], \"x\": {\"field\": \"YEAR\", \"title\": \"Year of First Appearance\", \"type\": \"ordinal\"}, \"y\": {\"field\": \"APPEARANCES\", \"title\": \"Total Appearances\", \"type\": \"quantitative\"}}, \"height\": 400, \"selection\": {\"selector004\": {\"type\": \"single\", \"bind\": {\"input\": \"range\", \"max\": 1987.0, \"min\": 1939.0, \"name\": \"year of first appearances\", \"step\": 1}, \"fields\": [\"year of first appearances\"], \"init\": {\"year of first appearances\": 1987.0}}}, \"title\": \"Total Appearances (Minimum 1250)\", \"transform\": [{\"filter\": \"(datum.YEAR <= selector004['year of first appearances'])\"}], \"width\": 300, \"$schema\": \"https://vega.github.io/schema/vega-lite/v4.17.0.json\"}, {\"mode\": \"vega-lite\"});\n",
       "</script>"
      ],
      "text/plain": [
       "alt.Chart(...)"
      ]
     },
     "execution_count": 41,
     "metadata": {},
     "output_type": "execute_result"
    }
   ],
   "source": [
    "slider=alt.binding_range(\n",
    "    min=appearances_min,  \n",
    "    max=appearances_max,  \n",
    "    step=1,              \n",
    "    name=\"year of first appearances\"        \n",
    "    )\n",
    "\n",
    "selector = alt.selection_single(\n",
    "    bind=slider,        \n",
    "    fields= [\"year of first appearances\"], \n",
    "    init={\"year of first appearances\":appearances_max}  \n",
    "    )\n",
    "\n",
    "\n",
    "# Create an Altair bar chart\n",
    "bar_chart = alt.Chart(comic_filtered).mark_bar().encode(\n",
    "    x=alt.X('YEAR:O',  title='Year of First Appearance'),  \n",
    "    y=alt.Y('APPEARANCES:Q', title='Total Appearances'),\n",
    "    color='Name:N'\n",
    ").properties(\n",
    "    height=400,\n",
    "    width=300  \n",
    ")\n",
    "\n",
    "\n",
    "bar_chart_t = bar_chart.add_selection(\n",
    "        selector\n",
    ").transform_filter(alt.datum.YEAR <= selector['year of first appearances'])\n",
    "\n",
    "\n",
    "#1.2 Tooltip Variant\n",
    "bar_chart_t=bar_chart_t.encode(\n",
    "    tooltip=['Name:N','APPEARANCES:Q']\n",
    ").properties(title='Total Appearances (Minimum 1250)')\n",
    "\n",
    "\n",
    "bar_chart_t = bar_chart_t.configure_title(\n",
    "    fontSize=20,  \n",
    "    font='Helvetica',  \n",
    "    anchor='middle',  \n",
    "    color='black'  \n",
    ").configure_axis(\n",
    "    labelFontSize=14,  \n",
    "    titleFontSize=16 \n",
    ")\n",
    "\n",
    "bar_chart_t"
   ]
  },
  {
   "cell_type": "markdown",
   "metadata": {},
   "source": [
    "## Chart Notes\n",
    "\n",
    "The chart adds the interactivity of the slide bar to cut off the year of first appearance. So if you set the bar to 1963, you can see, according to the data, what superheros had appeared at by that time. I prefiltered the data to a minimum of 1250 appears so that the chart would read better. The chart expresses the name of the superhero by color. We can see that in 1961-1963 had a boom in high volume superheroes as opposed to other years. The slider, set to 1960, lets me easily see that there are only 4 superheros that have at least 1250 appearances. These are some of the most famous (Batman, Captain America, Thor, and Green Lantern)."
   ]
  },
  {
   "cell_type": "markdown",
   "metadata": {},
   "source": [
    "## Additional chart below"
   ]
  },
  {
   "cell_type": "code",
   "execution_count": 44,
   "metadata": {},
   "outputs": [],
   "source": [
    "bar_chart2 = bar_chart\n",
    "\n",
    "selectOrigin=alt.selection_single(\n",
    "    fields=['publisher'],\n",
    "    init={\"publisher\":list(comic_filtered['publisher'].unique())[0]},\n",
    "    # notice the binding_radio\n",
    "    bind=alt.binding_radio(options=list(comic_filtered['publisher'].unique()),name=\"publisher\"),#edit this line\n",
    "    name=\"publisher\"\n",
    ")\n",
    "\n",
    "bar_chart2 = bar_chart2.add_selection(\n",
    "    selectOrigin\n",
    ").encode(\n",
    "    color=alt.condition(selectOrigin,alt.Color(\"publisher:N\"),alt.value('lightgray'))\n",
    ")\n",
    "\n",
    "bar_chart2 = bar_chart2.add_selection(\n",
    "        selector\n",
    ").transform_filter(alt.datum.YEAR <= selector['year of first appearances'])"
   ]
  },
  {
   "cell_type": "code",
   "execution_count": 45,
   "metadata": {},
   "outputs": [
    {
     "data": {
      "text/html": [
       "\n",
       "<div id=\"altair-viz-7185983bd8cd4f009f962d1154750868\"></div>\n",
       "<script type=\"text/javascript\">\n",
       "  var VEGA_DEBUG = (typeof VEGA_DEBUG == \"undefined\") ? {} : VEGA_DEBUG;\n",
       "  (function(spec, embedOpt){\n",
       "    let outputDiv = document.currentScript.previousElementSibling;\n",
       "    if (outputDiv.id !== \"altair-viz-7185983bd8cd4f009f962d1154750868\") {\n",
       "      outputDiv = document.getElementById(\"altair-viz-7185983bd8cd4f009f962d1154750868\");\n",
       "    }\n",
       "    const paths = {\n",
       "      \"vega\": \"https://cdn.jsdelivr.net/npm//vega@5?noext\",\n",
       "      \"vega-lib\": \"https://cdn.jsdelivr.net/npm//vega-lib?noext\",\n",
       "      \"vega-lite\": \"https://cdn.jsdelivr.net/npm//vega-lite@4.17.0?noext\",\n",
       "      \"vega-embed\": \"https://cdn.jsdelivr.net/npm//vega-embed@6?noext\",\n",
       "    };\n",
       "\n",
       "    function maybeLoadScript(lib, version) {\n",
       "      var key = `${lib.replace(\"-\", \"\")}_version`;\n",
       "      return (VEGA_DEBUG[key] == version) ?\n",
       "        Promise.resolve(paths[lib]) :\n",
       "        new Promise(function(resolve, reject) {\n",
       "          var s = document.createElement('script');\n",
       "          document.getElementsByTagName(\"head\")[0].appendChild(s);\n",
       "          s.async = true;\n",
       "          s.onload = () => {\n",
       "            VEGA_DEBUG[key] = version;\n",
       "            return resolve(paths[lib]);\n",
       "          };\n",
       "          s.onerror = () => reject(`Error loading script: ${paths[lib]}`);\n",
       "          s.src = paths[lib];\n",
       "        });\n",
       "    }\n",
       "\n",
       "    function showError(err) {\n",
       "      outputDiv.innerHTML = `<div class=\"error\" style=\"color:red;\">${err}</div>`;\n",
       "      throw err;\n",
       "    }\n",
       "\n",
       "    function displayChart(vegaEmbed) {\n",
       "      vegaEmbed(outputDiv, spec, embedOpt)\n",
       "        .catch(err => showError(`Javascript Error: ${err.message}<br>This usually means there's a typo in your chart specification. See the javascript console for the full traceback.`));\n",
       "    }\n",
       "\n",
       "    if(typeof define === \"function\" && define.amd) {\n",
       "      requirejs.config({paths});\n",
       "      require([\"vega-embed\"], displayChart, err => showError(`Error loading script: ${err.message}`));\n",
       "    } else {\n",
       "      maybeLoadScript(\"vega\", \"5\")\n",
       "        .then(() => maybeLoadScript(\"vega-lite\", \"4.17.0\"))\n",
       "        .then(() => maybeLoadScript(\"vega-embed\", \"6\"))\n",
       "        .catch(showError)\n",
       "        .then(() => displayChart(vegaEmbed));\n",
       "    }\n",
       "  })({\"usermeta\": {\"embedOptions\": {\"theme\": \"fivethirtyeight\"}}, \"config\": {\"view\": {\"continuousWidth\": 400, \"continuousHeight\": 300}, \"axis\": {\"labelFontSize\": 14, \"titleFontSize\": 16}, \"title\": {\"anchor\": \"middle\", \"color\": \"black\", \"font\": \"Helvetica\", \"fontSize\": 20}}, \"hconcat\": [{\"mark\": \"bar\", \"encoding\": {\"color\": {\"field\": \"Name\", \"type\": \"nominal\"}, \"x\": {\"field\": \"YEAR\", \"title\": \"Year of First Appearance\", \"type\": \"ordinal\"}, \"y\": {\"field\": \"APPEARANCES\", \"title\": \"Total Appearances\", \"type\": \"quantitative\"}}, \"height\": 400, \"width\": 300}, {\"mark\": \"bar\", \"encoding\": {\"color\": {\"condition\": {\"field\": \"publisher\", \"type\": \"nominal\", \"selection\": \"publisher\"}, \"value\": \"lightgray\"}, \"x\": {\"field\": \"YEAR\", \"title\": \"Year of First Appearance\", \"type\": \"ordinal\"}, \"y\": {\"field\": \"APPEARANCES\", \"title\": \"Total Appearances\", \"type\": \"quantitative\"}}, \"height\": 400, \"selection\": {\"publisher\": {\"type\": \"single\", \"fields\": [\"publisher\"], \"init\": {\"publisher\": \"DC\"}, \"bind\": {\"input\": \"radio\", \"options\": [\"DC\", \"Marvel\"], \"name\": \"publisher\"}}, \"selector004\": {\"type\": \"single\", \"bind\": {\"input\": \"range\", \"max\": 1987.0, \"min\": 1939.0, \"name\": \"year of first appearances\", \"step\": 1}, \"fields\": [\"year of first appearances\"], \"init\": {\"year of first appearances\": 1987.0}}}, \"transform\": [{\"filter\": \"(datum.YEAR <= selector004['year of first appearances'])\"}], \"width\": 300}], \"data\": {\"url\": \"altair-data-edb5317d3311cc8b63d7bfdd1581f1a9.json\", \"format\": {\"type\": \"json\"}}, \"title\": \"Total Appearances (Minimum 1250)\", \"$schema\": \"https://vega.github.io/schema/vega-lite/v4.17.0.json\"}, {\"mode\": \"vega-lite\"});\n",
       "</script>"
      ],
      "text/plain": [
       "alt.HConcatChart(...)"
      ]
     },
     "execution_count": 45,
     "metadata": {},
     "output_type": "execute_result"
    }
   ],
   "source": [
    "alt.hconcat(bar_chart, bar_chart2).properties(title='Total Appearances (Minimum 1250)').configure_title(\n",
    "    fontSize=20,  \n",
    "    font='Helvetica',  \n",
    "    anchor='middle',  \n",
    "    color='black'  \n",
    ").configure_axis(\n",
    "    labelFontSize=14,  \n",
    "    titleFontSize=16 \n",
    ")"
   ]
  },
  {
   "cell_type": "markdown",
   "metadata": {},
   "source": [
    "## Chart Notes\n",
    "\n",
    "This additional version has an added radio button. There are likely additional ways to perfect this display. Here, the color is used in both cases. THe radio button addjusts the selection on the right bar chart. We can see that Marvel had a period of high appearance heros from 1960 to 1975 - perhaps a golden age for Marvel comic books."
   ]
  }
 ],
 "metadata": {
  "kernelspec": {
   "display_name": "Python 3 (ipykernel)",
   "language": "python",
   "name": "python3"
  },
  "language_info": {
   "codemirror_mode": {
    "name": "ipython",
    "version": 3
   },
   "file_extension": ".py",
   "mimetype": "text/x-python",
   "name": "python",
   "nbconvert_exporter": "python",
   "pygments_lexer": "ipython3",
   "version": "3.10.7"
  }
 },
 "nbformat": 4,
 "nbformat_minor": 4
}
